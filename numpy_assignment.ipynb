{
 "cells": [
  {
   "cell_type": "code",
   "execution_count": 2,
   "id": "00923b27-a556-45af-b37b-7e111f18010b",
   "metadata": {},
   "outputs": [
    {
     "name": "stdout",
     "output_type": "stream",
     "text": [
      "Array [0 1 2 3 4 5]\n",
      "Data type int64\n"
     ]
    }
   ],
   "source": [
    " #1 . Create a NumPy array 'arr' of integers from 0 to 5 and print its data type.\n",
    "import numpy as np\n",
    "arr = np.arange(6)\n",
    "print(\"Array\",arr)\n",
    "print(\"Data type\",arr.dtype)\n"
   ]
  },
  {
   "cell_type": "code",
   "execution_count": 6,
   "id": "de4c3fb3-02b6-4c59-b6e5-4de0784b5dc2",
   "metadata": {},
   "outputs": [
    {
     "name": "stdout",
     "output_type": "stream",
     "text": [
      "float64\n"
     ]
    }
   ],
   "source": [
    "#2. Given a NumPy array 'arr', check if its data type is float64.\n",
    "arr = np.array([1.5,2.6,3.7])\n",
    "print(arr.dtype)\n"
   ]
  },
  {
   "cell_type": "code",
   "execution_count": 7,
   "id": "8971d588-cb10-4665-8705-3ffa4d418fb8",
   "metadata": {},
   "outputs": [
    {
     "name": "stdout",
     "output_type": "stream",
     "text": [
      "complex128\n"
     ]
    }
   ],
   "source": [
    "#3. Create a NumPy array 'arr' with a data type of complex128 containing three complex numbers.\n",
    "arr = np.array([1+2j,2+3j,4+5j])\n",
    "print(arr.dtype)"
   ]
  },
  {
   "cell_type": "code",
   "execution_count": 4,
   "id": "d1f6a582-c029-48f7-a232-98ede7992b90",
   "metadata": {},
   "outputs": [
    {
     "name": "stdout",
     "output_type": "stream",
     "text": [
      "converted array [0. 1. 2. 3. 4. 5.]\n",
      "Data type: float32\n"
     ]
    }
   ],
   "source": [
    "#4.Convert an existing NumPy array 'arr' of integers to float32 data type\n",
    "arr = np.array([0,1,2,3,4,5])\n",
    "arr_float32 = arr.astype(np.float32)\n",
    "\n",
    "print(\"converted array\",arr_float32)\n",
    "print(\"Data type:\", arr_float32.dtype)"
   ]
  },
  {
   "cell_type": "code",
   "execution_count": 7,
   "id": "160df155-6e5a-4cec-8868-f6b5c3742c42",
   "metadata": {},
   "outputs": [
    {
     "name": "stdout",
     "output_type": "stream",
     "text": [
      "float32\n",
      "data type of given arr float64\n"
     ]
    }
   ],
   "source": [
    "#5. Given a NumPy array 'arr' with float64 data type, convert it to float32 to reduce decimal precision\n",
    "import numpy as np\n",
    "arr = np.array([0.123456789, 1.23456789, 2.3456789])\n",
    "arr_float32 = arr.astype(np.float32)\n",
    "\n",
    "print(arr_float32.dtype)\n",
    "print(\"data type of given arr\",arr.dtype)"
   ]
  },
  {
   "cell_type": "code",
   "execution_count": 17,
   "id": "a18db7f1-40d6-434a-9f12-1da49dbac944",
   "metadata": {},
   "outputs": [
    {
     "name": "stdout",
     "output_type": "stream",
     "text": [
      "((6,), 6, dtype('int64'), 1)\n"
     ]
    }
   ],
   "source": [
    "#6. Write a function array_attributes that takes a NumPy array as input and returns its shape, size, and datatype.\n",
    "import numpy as np\n",
    "\n",
    "def arr_attributes(arr):\n",
    "    shape = arr.shape\n",
    "    size = arr.size\n",
    "    dtype = arr.dtype\n",
    "    return shape,size,dtype\n",
    "\n",
    "arr = np.array([1,2,3,4,5,6])\n",
    "arr2 = arr_attributes(arr)\n",
    "print(arr2)\n",
    "\n"
   ]
  },
  {
   "cell_type": "code",
   "execution_count": 19,
   "id": "f35636a8-fa87-4282-a2cb-692dc068ed1e",
   "metadata": {},
   "outputs": [
    {
     "name": "stdout",
     "output_type": "stream",
     "text": [
      "2\n"
     ]
    }
   ],
   "source": [
    "#7. Create a function array_dimension that takes a NumPy array as input and returns its dimensionality.\n",
    "import numpy as np\n",
    "\n",
    "def array_dimensions(arr):\n",
    "    dimensions = arr.ndim\n",
    "    return dimensions\n",
    "    \n",
    "arr = np.array([[2,3,4,5,6,7,8]])\n",
    "arr2 = array_dimensions(arr)\n",
    "print(arr2)"
   ]
  },
  {
   "cell_type": "code",
   "execution_count": 22,
   "id": "572e49dd-facd-41e6-8d94-169eff2f8ed8",
   "metadata": {},
   "outputs": [
    {
     "name": "stdout",
     "output_type": "stream",
     "text": [
      "item_size 8\n",
      "total_size 48\n"
     ]
    }
   ],
   "source": [
    "#8 Design a function item_size_info that takes a NumPy array as input and returns the item size and the totalsize in bytes.\n",
    "def item_size_info(arr):\n",
    "    item_size = arr.itemsize\n",
    "    total_size = arr.nbytes\n",
    "    return item_size,total_size\n",
    "\n",
    "arr = np.array([4,5,6,7,8,9])\n",
    "item_size,total_size = item_size_info(arr)\n",
    "print(\"item_size\",item_size)\n",
    "print(\"total_size\",total_size)"
   ]
  },
  {
   "cell_type": "code",
   "execution_count": 24,
   "id": "c3a3cd01-dc0b-420b-b666-124f63452a0f",
   "metadata": {},
   "outputs": [
    {
     "name": "stdout",
     "output_type": "stream",
     "text": [
      "(24, 8)\n"
     ]
    }
   ],
   "source": [
    "#9. Create a function array_strides that takes a NumPy array as input and returns the strides of the array.\n",
    "def array_strides(arr):\n",
    "    strides = arr.strides\n",
    "    return strides\n",
    "\n",
    "arr = np.array([[1,2,3],[4,5,6]])\n",
    "strides = array_strides(arr)\n",
    "print(strides)"
   ]
  },
  {
   "cell_type": "code",
   "execution_count": 26,
   "id": "fa0ab21f-aa86-47f1-843f-fda69a791b56",
   "metadata": {},
   "outputs": [
    {
     "name": "stdout",
     "output_type": "stream",
     "text": [
      "(32, 8)\n",
      "(2, 4)\n"
     ]
    }
   ],
   "source": [
    "#10. Design a function shape_stride_relationship that takes a NumPy array as input and returns the shapeand strides of the array.\n",
    "\n",
    "def shape_stride_relationship(arr):\n",
    "    strides = arr.strides\n",
    "    shape = arr.shape\n",
    "    return strides,shape\n",
    "\n",
    "arr = np.array([[3,4,5,6],[7,8,9,10]])\n",
    "strides,shape = shape_stride_relationship(arr)\n",
    "print(strides)\n",
    "print(shape)"
   ]
  },
  {
   "cell_type": "code",
   "execution_count": 30,
   "id": "990fb754-878c-4642-aec7-5f4232aac532",
   "metadata": {},
   "outputs": [
    {
     "name": "stdout",
     "output_type": "stream",
     "text": [
      "[0 0 0 0 0]\n"
     ]
    }
   ],
   "source": [
    "#11 Create a function `create_zeros_array` that takes an integer `n` as input and returns a NumPy array ofzeros with `n` elements\n",
    "def create_zeros_array(n):\n",
    "    return np.zeros(n,dtype = int)\n",
    "\n",
    "n = 5\n",
    "zero_arr = create_zeros_array(n)\n",
    "print(zero_arr)"
   ]
  },
  {
   "cell_type": "code",
   "execution_count": 3,
   "id": "4750644c-71cb-44e8-a625-a0f8f5d40201",
   "metadata": {},
   "outputs": [
    {
     "name": "stdout",
     "output_type": "stream",
     "text": [
      "[[1. 1. 1. 1.]\n",
      " [1. 1. 1. 1.]\n",
      " [1. 1. 1. 1.]]\n"
     ]
    }
   ],
   "source": [
    "#12. Write a function `create_ones_matrix` that takes integers `rows` and `cols` as inputs and generates a 2DNumPy array filled with ones of size `rows x cols`.\n",
    "\n",
    "def create_ones_matrix(rows,cols):\n",
    "    one_matrix = np.ones((rows,cols))\n",
    "    return one_matrix\n",
    "\n",
    "rows,cols = 3,4\n",
    "matrix = create_ones_matrix(3,4)\n",
    "print(matrix)"
   ]
  },
  {
   "cell_type": "code",
   "execution_count": 8,
   "id": "9446ba6c-c0f4-4a44-bec5-2319148496d9",
   "metadata": {},
   "outputs": [
    {
     "name": "stdout",
     "output_type": "stream",
     "text": [
      "[0 2 4 6 8]\n"
     ]
    }
   ],
   "source": [
    "#13. Write a function `generate_range_array` that takes three integers start, stop, and step as arguments and\n",
    "#creates a NumPy array with a range starting from `start`, ending at stop (exclusive), and with the specified\n",
    "#step`.\n",
    "\n",
    "def generate_range_array(start,stop,step):\n",
    "    return np.arange(start,stop,step)\n",
    "\n",
    "start,stop,step = 0,10,2\n",
    "arr = generate_range_array(start,stop,step)\n",
    "print(arr)"
   ]
  },
  {
   "cell_type": "code",
   "execution_count": 10,
   "id": "7842f2b6-3449-486b-a62e-3a41a9a04ca2",
   "metadata": {},
   "outputs": [
    {
     "name": "stdout",
     "output_type": "stream",
     "text": [
      "[1.         1.44444444 1.88888889 2.33333333 2.77777778 3.22222222\n",
      " 3.66666667 4.11111111 4.55555556 5.        ]\n"
     ]
    }
   ],
   "source": [
    "#14. Design a function `generate_linear_space` that takes two floats `start`, `stop`, and an integer `num` as\n",
    "#arguments and generates a NumPy array with num equally spaced values between `start` and `stop`(inclusive).\n",
    "\n",
    "def generate_linear_space(start,stop,num):\n",
    "    return np.linspace(start,stop,num)\n",
    "\n",
    "start,stop,num = 1,5,10\n",
    "arr = generate_linear_space(start,stop,num)\n",
    "print(arr)"
   ]
  },
  {
   "cell_type": "code",
   "execution_count": 12,
   "id": "ded86fc6-3648-469f-879e-2814228b59a2",
   "metadata": {},
   "outputs": [
    {
     "name": "stdout",
     "output_type": "stream",
     "text": [
      "[[1. 0. 0. 0.]\n",
      " [0. 1. 0. 0.]\n",
      " [0. 0. 1. 0.]\n",
      " [0. 0. 0. 1.]]\n"
     ]
    }
   ],
   "source": [
    "#15. Create a function `create_identity_matrix` that takes an integer `n` as input and generates a square\n",
    "#identity matrix of size `n x n` using `numpy.eye`.\n",
    "\n",
    "def create_identity_matrix(n):\n",
    "    arr = np.eye(n)\n",
    "    return arr\n",
    "\n",
    "n = 4\n",
    "arr2 =  create_identity_matrix(n)\n",
    "print(arr2)\n",
    "    \n",
    "    "
   ]
  },
  {
   "cell_type": "code",
   "execution_count": 17,
   "id": "a15b65e6-4f5a-45c3-80b6-db360c69a172",
   "metadata": {},
   "outputs": [
    {
     "name": "stdout",
     "output_type": "stream",
     "text": [
      "[1 2 3 4 5]\n",
      "int64\n"
     ]
    }
   ],
   "source": [
    "#16. Write a function that takes a Python list and converts it into a NumPy array\n",
    "\n",
    "def list_python(l):\n",
    "    return np.array(l)\n",
    "\n",
    "l = [1,2,3,4,5]\n",
    "arr = list_python(l)\n",
    "print(arr)\n",
    "print(arr.dtype)"
   ]
  },
  {
   "cell_type": "code",
   "execution_count": 19,
   "id": "7ff32477-b5a1-4373-a8a3-7cbbf8a7d462",
   "metadata": {},
   "outputs": [
    {
     "name": "stdout",
     "output_type": "stream",
     "text": [
      "Original array: [1 2 3 4 5]\n",
      "View array: [1 2 3 4 5]\n",
      "\n",
      "Memory addresses:\n",
      "Original array data address: (93906214258336, False)\n",
      "View array data address: (93906214258336, False)\n",
      "\n",
      "After modifying the view array:\n",
      "Original array: [10  2  3  4  5]\n",
      "View array: [10  2  3  4  5]\n"
     ]
    }
   ],
   "source": [
    "#17. Create a NumPy array and demonstrate the use of `numpy.view` to create a new array object with the same data\n",
    "import numpy as np\n",
    "\n",
    "# Create an initial NumPy array\n",
    "original_array = np.array([1, 2, 3, 4, 5])\n",
    "\n",
    "# Use numpy.view to create a new array object with the same data\n",
    "view_array = original_array.view()\n",
    "\n",
    "# Print both arrays and their memory addresses\n",
    "print(\"Original array:\", original_array)\n",
    "print(\"View array:\", view_array)\n",
    "\n",
    "print(\"\\nMemory addresses:\")\n",
    "print(\"Original array data address:\", original_array.__array_interface__['data'])\n",
    "print(\"View array data address:\", view_array.__array_interface__['data'])\n",
    "\n",
    "# Modify the view array and show that the original array is also affected\n",
    "view_array[0] = 10\n",
    "print(\"\\nAfter modifying the view array:\")\n",
    "print(\"Original array:\", original_array)\n",
    "print(\"View array:\", view_array)\n"
   ]
  },
  {
   "cell_type": "code",
   "execution_count": 21,
   "id": "df952d99-49c0-4ca9-beac-b777f44fab14",
   "metadata": {},
   "outputs": [
    {
     "name": "stdout",
     "output_type": "stream",
     "text": [
      "concat array is  [1 2 3 4 5 6 7 8]\n"
     ]
    }
   ],
   "source": [
    "#18. Write a function that takes two NumPy arrays and concatenates them along a specified axis.\n",
    "def concatenates(arr1,arr2,axis = 0):\n",
    "    return np.concatenate((arr1,arr2),axis = axis)\n",
    "\n",
    "arr1 = np.array([1,2,3,4,5])\n",
    "arr2 = np.array([6,7,8])\n",
    "concat = concatenates(arr1,arr2)\n",
    "print(\"concat array is \",concat)\n",
    "    \n",
    "    "
   ]
  },
  {
   "cell_type": "markdown",
   "id": "6de9d857-64bb-40e7-b776-3640d2a4c43e",
   "metadata": {},
   "source": []
  },
  {
   "cell_type": "code",
   "execution_count": 26,
   "id": "acd55f20-6bbd-436e-9797-c3b43ccea9dc",
   "metadata": {},
   "outputs": [
    {
     "name": "stdout",
     "output_type": "stream",
     "text": [
      "[[1 2 5]\n",
      " [3 4 6]]\n"
     ]
    }
   ],
   "source": [
    "#19. Create two NumPy arrays with different shapes and concatenate them horizontally using `numpy.concatenate`.\n",
    "arr1 = np.array([[1,2],[3,4]])\n",
    "arr2 = np.array([[5],[6]])\n",
    "\n",
    "concat = np.concatenate((arr1,arr2),axis = 1)\n",
    "print(concat)"
   ]
  },
  {
   "cell_type": "code",
   "execution_count": 27,
   "id": "b3ffacf5-0cc2-4e91-b6fe-7d18dba986fd",
   "metadata": {},
   "outputs": [
    {
     "name": "stdout",
     "output_type": "stream",
     "text": [
      "[[1 2 3]\n",
      " [4 5 6]\n",
      " [7 8 9]]\n"
     ]
    }
   ],
   "source": [
    "#20. Write a function that vertically stacks multiple NumPy arrays given as a list.\n",
    "import numpy as np\n",
    "\n",
    "def stack_arrays_vertically(arrays):\n",
    "    \"\"\"\n",
    "    Vertically stacks multiple NumPy arrays from a list.\n",
    "\n",
    "    Parameters:\n",
    "    arrays (list of numpy.ndarray): List of arrays to be stacked.\n",
    "\n",
    "    Returns:\n",
    "    numpy.ndarray: The stacked array.\n",
    "    \"\"\"\n",
    "    try:\n",
    "        stacked_array = np.vstack(arrays)\n",
    "        return stacked_array\n",
    "    except ValueError as e:\n",
    "        return str(e)\n",
    "\n",
    "# Example usage\n",
    "arr1 = np.array([1, 2, 3])\n",
    "arr2 = np.array([4, 5, 6])\n",
    "arr3 = np.array([7, 8, 9])\n",
    "\n",
    "result = stack_arrays_vertically([arr1, arr2, arr3])\n",
    "print(result)\n"
   ]
  },
  {
   "cell_type": "code",
   "execution_count": 28,
   "id": "944d5705-fc28-4778-a22b-5224ec05142b",
   "metadata": {},
   "outputs": [
    {
     "name": "stdout",
     "output_type": "stream",
     "text": [
      "[0 2 4 6 8]\n"
     ]
    }
   ],
   "source": [
    "#21. Write a Python function using NumPy to create an array of integers within a specified range (inclusive)\n",
    "#with a given step size.\n",
    "\n",
    "\n",
    "\n",
    "def range_array(start,stop,step):\n",
    "    return np.arange(start,stop,step)\n",
    "\n",
    "start = 0\n",
    "stop = 10\n",
    "step = 2\n",
    "\n",
    "result = range_array(start,stop,step)\n",
    "print(result)"
   ]
  },
  {
   "cell_type": "code",
   "execution_count": 29,
   "id": "28ae4133-b004-4fc8-9a11-7e8d59da577c",
   "metadata": {},
   "outputs": [
    {
     "name": "stdout",
     "output_type": "stream",
     "text": [
      "[0.         0.11111111 0.22222222 0.33333333 0.44444444 0.55555556\n",
      " 0.66666667 0.77777778 0.88888889 1.        ]\n"
     ]
    }
   ],
   "source": [
    "#22. Write a Python function using NumPy to generate an array of 10 equally spaced values between 0 and 1(inclusive).\n",
    "def equally_spaced(start,stop,num):\n",
    "    return np.linspace(start,stop,num)\n",
    "\n",
    "start = 0\n",
    "stop = 1\n",
    "num = 10\n",
    "\n",
    "matrix = equally_spaced(start,stop,num)\n",
    "print(matrix)"
   ]
  },
  {
   "cell_type": "code",
   "execution_count": 30,
   "id": "55ec188a-8e6f-451b-a331-6e4c43e6ec6f",
   "metadata": {},
   "outputs": [
    {
     "name": "stdout",
     "output_type": "stream",
     "text": [
      "[   1.            5.62341325   31.6227766   177.827941   1000.        ]\n"
     ]
    }
   ],
   "source": [
    "#23. Write a Python function using NumPy to create an array of 5 logarithmically spaced values between 1 and1000 (inclusive).\n",
    "\n",
    "def generate_logarithmically_spaced_values(start, stop, num_values):\n",
    "    return np.logspace(start, stop, num_values)\n",
    "\n",
    "start = 0  # log base 10 of 1\n",
    "stop = 3  # log base 10 of 1000\n",
    "num_values = 5\n",
    "\n",
    "result = generate_logarithmically_spaced_values(start, stop, num_values)\n",
    "print(result)"
   ]
  },
  {
   "cell_type": "code",
   "execution_count": 31,
   "id": "2628ffa9-7c15-4180-bb93-e60fc51434c4",
   "metadata": {},
   "outputs": [],
   "source": [
    "#24. Create a Pandas DataFrame using a NumPy array that contains 5 rows and 3 columns, where the values\n",
    "#are random integers between 1 and 100"
   ]
  },
  {
   "cell_type": "code",
   "execution_count": null,
   "id": "0ef88b5c-fc6e-497e-87c4-4e810f0ba007",
   "metadata": {},
   "outputs": [],
   "source": []
  },
  {
   "cell_type": "code",
   "execution_count": 1,
   "id": "a1f2ebd6-59d1-46c1-bc68-53146d7ab235",
   "metadata": {},
   "outputs": [],
   "source": [
    "#25.25. Write a function that takes a Pandas DataFrame and replaces all negative values in a specific column\n",
    "#with zeros. Use NumPy operations within the Pandas DataFrame."
   ]
  },
  {
   "cell_type": "code",
   "execution_count": 8,
   "id": "c075cfdb-1c52-4e03-bb43-ccc7d8d08c83",
   "metadata": {},
   "outputs": [
    {
     "name": "stdout",
     "output_type": "stream",
     "text": [
      "30\n"
     ]
    }
   ],
   "source": [
    "#26.. Access the 3rd element from the given NumPy array.\n",
    "arr = np.array([10,20,30,40,50])\n",
    "print(arr[2])"
   ]
  },
  {
   "cell_type": "code",
   "execution_count": 7,
   "id": "dd1a69a0-8488-4335-a891-2e7dc1b6b2a3",
   "metadata": {},
   "outputs": [
    {
     "name": "stdout",
     "output_type": "stream",
     "text": [
      "6\n"
     ]
    }
   ],
   "source": [
    "#27. Retrieve the element at index (1, 2) from the 2D NumPy array\n",
    "arr_2d = np.array([[1, 2, 3],\n",
    "                   [4, 5, 6],\n",
    "                   [7, 8, 9]])\n",
    "print(arr_2d[1][2])"
   ]
  },
  {
   "cell_type": "code",
   "execution_count": 11,
   "id": "7a3c5766-11cd-43d2-9321-bf6b538316b3",
   "metadata": {},
   "outputs": [
    {
     "name": "stdout",
     "output_type": "stream",
     "text": [
      "[ 8 10  7]\n"
     ]
    }
   ],
   "source": [
    "#28. Using boolean indexing, extract elements greater than 5 from the given NumPy array.\n",
    "arr = np.array([3, 8, 2, 10, 5, 7])\n",
    "mask = arr > 5\n",
    "elmnt_greatr_5 = arr[mask]\n",
    "print(elmnt_greatr_5)"
   ]
  },
  {
   "cell_type": "code",
   "execution_count": 15,
   "id": "3cbbfc64-a133-4b5e-8f8e-74a5db9b2d53",
   "metadata": {},
   "outputs": [
    {
     "name": "stdout",
     "output_type": "stream",
     "text": [
      "[2 3 4 5 6]\n"
     ]
    }
   ],
   "source": [
    "#29. Perform basic slicing to extract elements from index 2 to 5 (inclusive) from the given NumPy array.\n",
    "arr = np.array([1, 2, 3, 4, 5, 6, 7, 8, 9])\n",
    "print(arr[1:6])"
   ]
  },
  {
   "cell_type": "code",
   "execution_count": 17,
   "id": "867d6f09-5ad9-422e-ba1e-85a9091991aa",
   "metadata": {},
   "outputs": [
    {
     "name": "stdout",
     "output_type": "stream",
     "text": [
      "[[2 3]\n",
      " [5 6]]\n"
     ]
    }
   ],
   "source": [
    "#30. Slice the 2D NumPy array to extract the sub-array `[[2, 3], [5, 6]]` from the given array.\n",
    "arr_2d = np.array([[1, 2, 3],\n",
    "                   [4, 5, 6],\n",
    "                   [7, 8, 9]])\n",
    "\n",
    "sub_array = arr_2d[0:2,1:3]\n",
    "print(sub_array)"
   ]
  },
  {
   "cell_type": "code",
   "execution_count": 18,
   "id": "7c6a48e0-20af-460c-8fdb-e7372ed9836b",
   "metadata": {},
   "outputs": [
    {
     "name": "stdout",
     "output_type": "stream",
     "text": [
      "[3 5 7]\n"
     ]
    }
   ],
   "source": [
    "#31.Write a NumPy function to extract elements in specific order from a given 2D array based on indices\n",
    "#provided in another array.\n",
    "\n",
    "import numpy as np\n",
    "\n",
    "def extract_elements_by_indices(arr_2d, indices):\n",
    " \n",
    "    return arr_2d[indices[:, 0], indices[:, 1]]\n",
    "\n",
    "# Example usage\n",
    "arr_2d = np.array([[1, 2, 3],\n",
    "                   [4, 5, 6],\n",
    "                   [7, 8, 9]])\n",
    "\n",
    "indices = np.array([[0, 2],\n",
    "                    [1, 1],\n",
    "                    [2, 0]])\n",
    "\n",
    "result = extract_elements_by_indices(arr_2d, indices)\n",
    "print(result)\n"
   ]
  },
  {
   "cell_type": "code",
   "execution_count": 19,
   "id": "af462471-06b5-48d8-a913-3e958492cf65",
   "metadata": {},
   "outputs": [
    {
     "name": "stdout",
     "output_type": "stream",
     "text": [
      "[ 8 10  7]\n"
     ]
    }
   ],
   "source": [
    "#32. Create a NumPy function that filters elements greater than a threshold from a given 1D array using\n",
    "#boolean indexing.\n",
    "import numpy as np\n",
    "\n",
    "def filter_elements_greater_than_threshold(arr, threshold):\n",
    "    return arr[arr > threshold]\n",
    "\n",
    "# Example usage\n",
    "arr = np.array([3, 8, 2, 10, 5, 7])\n",
    "threshold = 5\n",
    "\n",
    "filtered_elements = filter_elements_greater_than_threshold(arr, threshold)\n",
    "print(filtered_elements)\n"
   ]
  },
  {
   "cell_type": "code",
   "execution_count": 20,
   "id": "4ea750f5-896d-4318-9b27-d85826267767",
   "metadata": {},
   "outputs": [
    {
     "name": "stdout",
     "output_type": "stream",
     "text": [
      "[ 6 11 25]\n"
     ]
    }
   ],
   "source": [
    "#33. Develop a NumPy function that extracts specific elements from a 3D array using indices provided in three\n",
    "#separate arrays for each dimension\n",
    "\n",
    "import numpy as np\n",
    "\n",
    "def extract_elements_from_3d_array(arr_3d, x_indices, y_indices, z_indices):\n",
    " \n",
    "    return arr_3d[x_indices, y_indices, z_indices]\n",
    "\n",
    "# Example usage\n",
    "arr_3d = np.array([[[ 1,  2,  3],\n",
    "                    [ 4,  5,  6],\n",
    "                    [ 7,  8,  9]],\n",
    "                   \n",
    "                   [[10, 11, 12],\n",
    "                    [13, 14, 15],\n",
    "                    [16, 17, 18]],\n",
    "                   \n",
    "                   [[19, 20, 21],\n",
    "                    [22, 23, 24],\n",
    "                    [25, 26, 27]]])\n",
    "\n",
    "x_indices = np.array([0, 1, 2])\n",
    "y_indices = np.array([1, 0, 2])\n",
    "z_indices = np.array([2, 1, 0])\n",
    "\n",
    "extracted_elements = extract_elements_from_3d_array(arr_3d, x_indices, y_indices, z_indices)\n",
    "print(extracted_elements)\n"
   ]
  },
  {
   "cell_type": "code",
   "execution_count": 21,
   "id": "2ad75e7f-b81f-4b5b-8018-b3e8679867d2",
   "metadata": {},
   "outputs": [
    {
     "name": "stdout",
     "output_type": "stream",
     "text": [
      "[ 8 10]\n"
     ]
    }
   ],
   "source": [
    "#34. Write a NumPy function that returns elements from an array where both two conditions are satisfied using boolean indexing.\n",
    "import numpy as np\n",
    "\n",
    "def filter_elements_by_two_conditions(arr, condition1, condition2):\n",
    "    return arr[condition1 & condition2]\n",
    "\n",
    "# Example usage\n",
    "arr = np.array([3, 8, 2, 10, 5, 7])\n",
    "\n",
    "# Define two conditions\n",
    "condition1 = arr > 5    # Elements greater than 5\n",
    "condition2 = arr % 2 == 0  # Elements that are even\n",
    "\n",
    "filtered_elements = filter_elements_by_two_conditions(arr, condition1, condition2)\n",
    "print(filtered_elements)\n"
   ]
  },
  {
   "cell_type": "code",
   "execution_count": 22,
   "id": "ecb27961-7869-40ba-bfb9-9f2bcd6b6cc9",
   "metadata": {},
   "outputs": [
    {
     "name": "stdout",
     "output_type": "stream",
     "text": [
      "[3 4 8]\n"
     ]
    }
   ],
   "source": [
    "#35 Create a NumPy function that extracts elements from a 2D array using row and column indices provided in separate arrays.\\\n",
    "import numpy as np\n",
    "\n",
    "def extract_elements_by_indices(arr_2d, row_indices, col_indices):\n",
    "    return arr_2d[row_indices, col_indices]\n",
    "\n",
    "\n",
    "arr_2d = np.array([[1, 2, 3],\n",
    "                   [4, 5, 6],\n",
    "                   [7, 8, 9]])\n",
    "\n",
    "row_indices = np.array([0, 1, 2])\n",
    "col_indices = np.array([2, 0, 1])\n",
    "\n",
    "extracted_elements = extract_elements_by_indices(arr_2d, row_indices, col_indices)\n",
    "print(extracted_elements)\n"
   ]
  },
  {
   "cell_type": "code",
   "execution_count": 27,
   "id": "01becbba-a8eb-4ddb-9db3-47ea1be8beb0",
   "metadata": {},
   "outputs": [
    {
     "data": {
      "text/plain": [
       "array([[ 7,  7,  6],\n",
       "       [12, 11,  7],\n",
       "       [14, 14,  7]])"
      ]
     },
     "execution_count": 27,
     "metadata": {},
     "output_type": "execute_result"
    }
   ],
   "source": [
    "#36. Given an array arr of shape (3, 3), add a scalar value of 5 to each element using NumPy broadcasting.\n",
    "arr1 = np.random.randint(1,10,(3,3))\n",
    "\n",
    "arr1 + 5"
   ]
  },
  {
   "cell_type": "code",
   "execution_count": 28,
   "id": "36e0b65b-6bf8-478a-af77-5645fae1ff4f",
   "metadata": {},
   "outputs": [
    {
     "name": "stdout",
     "output_type": "stream",
     "text": [
      "[[ 2  4  6  8]\n",
      " [15 18 21 24]\n",
      " [36 40 44 48]]\n"
     ]
    }
   ],
   "source": [
    "#37. Consider two arrays arr1 of shape (1, 3) and arr2 of shape (3, 4). Multiply each row of arr2 by the\n",
    "#corresponding element in arr1 using NumPy broadcasting.\n",
    "import numpy as np\n",
    "\n",
    "\n",
    "arr1 = np.array([[2, 3, 4]])  \n",
    "arr2 = np.array([[1, 2, 3, 4],\n",
    "                 [5, 6, 7, 8],\n",
    "                 [9, 10, 11, 12]])  \n",
    "\n",
    "\n",
    "result = arr2 * arr1.T\n",
    "\n",
    "print(result)\n",
    "\n"
   ]
  },
  {
   "cell_type": "code",
   "execution_count": 33,
   "id": "e546c33c-b66f-4352-93cf-d6522ff48c13",
   "metadata": {},
   "outputs": [],
   "source": [
    "#38. Given a 1D array arr1 of shape (1, 4) and a 2D array arr2 of shape (4, 3), add arr1 to each row of arr2 using NumPy broadcasting.\n",
    "\n",
    "arr1 = np.random.randint(1,10,(1,4))\n",
    "arr2 = np.random.randint(1,10,(4,3))\n",
    "\n",
    "arr1 + arr2\n",
    "# we cant add them this shape of matrix"
   ]
  },
  {
   "cell_type": "code",
   "execution_count": 37,
   "id": "341276dc-ae20-41d8-a0e8-167f7c7a0255",
   "metadata": {},
   "outputs": [
    {
     "data": {
      "text/plain": [
       "array([[11,  4,  7],\n",
       "       [ 9,  2,  5],\n",
       "       [17, 10, 13]])"
      ]
     },
     "execution_count": 37,
     "metadata": {},
     "output_type": "execute_result"
    }
   ],
   "source": [
    "#39. Consider two arrays arr1 of shape (3, 1) and arr2 of shape (1, 3). Add these arrays using NumPy broadcasting.\n",
    "arr1 = np.random.randint(1,10,(3,1))\n",
    "arr2 = np.random.randint(1,10,(1,3))\n",
    "\n",
    "arr1 + arr2"
   ]
  },
  {
   "cell_type": "code",
   "execution_count": 40,
   "id": "b7d81188-aa26-457b-abfa-24e9ad619765",
   "metadata": {},
   "outputs": [],
   "source": [
    "#40 Given arrays arr1 of shape (2, 3) and arr2 of shape (2, 2), perform multiplication using NumPy\n",
    "#broadcasting. Handle the shape incompatibility \n",
    "\n",
    "import numpy as np\n",
    "\n",
    "# Define the arrays\n",
    "arr1 = np.array([[1, 2, 3], [4, 5, 6]])  \n",
    "arr2 = np.array([[1, 2], [3, 4]])         \n",
    "\n",
    "\n",
    "arr1_reshaped = arr1[:, np.newaxis, :]\n",
    "\n",
    "\n",
    "\n",
    "result = arr1_reshaped * arr2\n",
    "\n",
    "\n",
    "print(result)\n"
   ]
  },
  {
   "cell_type": "code",
   "execution_count": 43,
   "id": "bcf6bd17-2eb6-41f8-9cb0-15ff031b236e",
   "metadata": {},
   "outputs": [
    {
     "name": "stdout",
     "output_type": "stream",
     "text": [
      "Column-wise means: [2.5 3.5 4.5]\n"
     ]
    }
   ],
   "source": [
    "#41. Calculate column wise mean for the given array:\n",
    "arr = np.array([[1, 2, 3], [4, 5, 6]])\n",
    "import numpy as np\n",
    "\n",
    "\n",
    "arr = np.array([[1, 2, 3], [4, 5, 6]])\n",
    "\n",
    "column_means = np.mean(arr, axis=0)\n",
    "\n",
    "\n",
    "print(\"Column-wise means:\", column_means)\n"
   ]
  },
  {
   "cell_type": "code",
   "execution_count": 45,
   "id": "dde6e5f4-992b-4b05-ae4b-044802b9a307",
   "metadata": {},
   "outputs": [
    {
     "data": {
      "text/plain": [
       "array([3, 6])"
      ]
     },
     "execution_count": 45,
     "metadata": {},
     "output_type": "execute_result"
    }
   ],
   "source": [
    "#42. Find maximum value in each row of the given array:\n",
    "arr = np.array([[1, 2, 3], [4, 5, 6]])\n",
    "np.max(arr,axis = 1)"
   ]
  },
  {
   "cell_type": "code",
   "execution_count": 47,
   "id": "3aae2977-a2aa-4ec0-b74d-81c90f52d98e",
   "metadata": {},
   "outputs": [
    {
     "data": {
      "text/plain": [
       "array([3, 6])"
      ]
     },
     "execution_count": 47,
     "metadata": {},
     "output_type": "execute_result"
    }
   ],
   "source": [
    "#43.For the given array, find indices of maximum value in each column.\n",
    "arr = np.array([[1, 2, 3], [4, 5, 6]])\n",
    "np.max(arr,axis = 1)"
   ]
  },
  {
   "cell_type": "code",
   "execution_count": 48,
   "id": "f3c6ecca-d472-491c-b97f-8ba2f37cf401",
   "metadata": {},
   "outputs": [
    {
     "name": "stdout",
     "output_type": "stream",
     "text": [
      "Moving sums along rows:\n",
      "[[ 3.  5.]\n",
      " [ 9. 11.]]\n"
     ]
    }
   ],
   "source": [
    "#44 For the given array, apply custom function to calculate moving sum along rows.\n",
    "arr = np.array([[1, 2, 3], [4, 5, 6]])\n",
    "\n",
    "import numpy as np\n",
    "\n",
    "def moving_sum(arr, window_size):\n",
    "\n",
    "    \n",
    "    result = np.zeros((arr.shape[0], arr.shape[1] - window_size + 1))\n",
    "\n",
    "    for i in range(arr.shape[0]):\n",
    "        \n",
    "        result[i, :] = np.convolve(arr[i, :], np.ones(window_size), mode='valid')\n",
    "\n",
    "    return result\n",
    "\n",
    "\n",
    "arr = np.array([[1, 2, 3], [4, 5, 6]])\n",
    "\n",
    "window_size = 2\n",
    "\n",
    "\n",
    "moving_sums = moving_sum(arr, window_size)\n",
    "\n",
    "\n",
    "print(\"Moving sums along rows:\")\n",
    "print(moving_sums)\n"
   ]
  },
  {
   "cell_type": "code",
   "execution_count": 2,
   "id": "e8d673eb-17e4-47d9-8cc5-4f7674284d38",
   "metadata": {},
   "outputs": [
    {
     "data": {
      "text/plain": [
       "False"
      ]
     },
     "execution_count": 2,
     "metadata": {},
     "output_type": "execute_result"
    }
   ],
   "source": [
    "#45. In the given array, check if all elements in each column are even.\n",
    "arr = np.array([[2, 4, 6], [3, 5, 7]])\n",
    "import numpy as np\n",
    "\n",
    "arr = np.array([[2, 4, 6], [3, 5, 7]])\n",
    "\n",
    "\n",
    "all_even = True\n",
    "\n",
    "\n",
    "num_columns = arr.shape[1]\n",
    "\n",
    "\n",
    "for col in range(num_columns):\n",
    "  \n",
    "    if not np.all(arr[:, col] % 2 == 0):\n",
    "        all_even = False\n",
    "        break\n",
    "\n",
    "\n",
    "all_even\n",
    "\n"
   ]
  },
  {
   "cell_type": "code",
   "execution_count": 3,
   "id": "aad9eb43-4f5a-4035-84c3-e53c959b06ad",
   "metadata": {},
   "outputs": [
    {
     "name": "stdout",
     "output_type": "stream",
     "text": [
      "[[1]\n",
      " [2]\n",
      " [3]\n",
      " [4]\n",
      " [5]\n",
      " [6]]\n"
     ]
    }
   ],
   "source": [
    "#46.Given a NumPy array arr, reshape it into a matrix of dimensions `m` rows and `n` columns. Return the  reshaped matrix.\n",
    "original_array = np.array([1, 2, 3, 4, 5, 6])\n",
    "after_reshape = original_array.reshape(6,1)\n",
    "print(after_reshape)"
   ]
  },
  {
   "cell_type": "code",
   "execution_count": 4,
   "id": "7d832423-8f13-4799-b5bb-b66cf62ddf99",
   "metadata": {},
   "outputs": [
    {
     "name": "stdout",
     "output_type": "stream",
     "text": [
      "[1 2 3 4 5 6]\n"
     ]
    }
   ],
   "source": [
    "#47. Create a function that takes a matrix as input and returns the flattened array\n",
    "\n",
    "\n",
    "def flatten_array(inpur_matrix):\n",
    "    return input_matrix.flatten()\n",
    "\n",
    "input_matrix = np.array([[1, 2, 3], [4, 5, 6]])\n",
    "flt = flatten_array(input_matrix)\n",
    "print(flt)"
   ]
  },
  {
   "cell_type": "code",
   "execution_count": 9,
   "id": "220990e3-e13a-46b1-b573-678ae43817c5",
   "metadata": {},
   "outputs": [
    {
     "name": "stdout",
     "output_type": "stream",
     "text": [
      "[[1 2]\n",
      " [3 4]\n",
      " [5 6]\n",
      " [7 8]]\n",
      "[[1 2 5 6]\n",
      " [3 4 7 8]]\n"
     ]
    }
   ],
   "source": [
    "#48. Write a function that concatenates two given arrays along a specified axis.\n",
    "def concatenate_arr(arr1,arr2,axis):\n",
    "    return np.concatenate((arr1,arr2),axis = axis)\n",
    "\n",
    "arr1 = np.array([[1, 2], [3, 4]])\n",
    "arr2 = np.array([[5, 6], [7, 8]])\n",
    "\n",
    "concat =  concatenate_arr(arr1,arr2,axis = 0)\n",
    "print(concat)\n",
    "\n",
    "concat2 =  concatenate_arr(arr1,arr2,axis = 1)\n",
    "print(concat2)"
   ]
  },
  {
   "cell_type": "code",
   "execution_count": 12,
   "id": "246ff525-9b36-4c78-a26d-88f49297c0e2",
   "metadata": {},
   "outputs": [],
   "source": [
    "#49. Create a function that splits an array into multiple sub-arrays along a specified axis.\n",
    "import numpy as np\n",
    "\n",
    "def split_array(array, indices_or_sections, axis):\n",
    "   \n",
    "    return np.split(array, indices_or_sections, axis=axis)\n",
    "\n",
    "# Define the original array\n",
    "original_array = np.array([[1, 2, 3], [4, 5, 6], [7, 8, 9]])\n",
    "\n",
    "# Split the array along different axes\n",
    "split_along_axis0 = split_array(original_array, 2, axis=0)\n",
    "split_along_axis1 = split_array(original_array, 2, axis=1)\n",
    "split_at_indices = split_array(original_array, [1, 2], axis=1)\n",
    "\n",
    "# Output the results\n",
    "print(\"Split along axis 0:\")\n",
    "for sub_array in split_along_axis0:\n",
    "    print(sub_array)\n",
    "\n",
    "print(\"\\nSplit along axis 1:\")\n",
    "for sub_array in split_along_axis1:\n",
    "    print(sub_array)\n",
    "\n",
    "print(\"\\nSplit at specified indices along axis 1:\")\n",
    "for sub_array in split_at_indices:\n",
    "    print(sub_array)\n",
    "\n",
    "\n"
   ]
  },
  {
   "cell_type": "code",
   "execution_count": 1,
   "id": "133e43c4-4959-42d0-803f-b45cfc229e56",
   "metadata": {},
   "outputs": [
    {
     "name": "stdout",
     "output_type": "stream",
     "text": [
      "Modified array: [ 1 10 11  4  5]\n"
     ]
    }
   ],
   "source": [
    "#50. Write a function that inserts and then deletes elements from a given array at specified indices.\n",
    "import numpy as np\n",
    "\n",
    "def insert_and_delete_elements(original_array, indices_to_insert, values_to_insert, indices_to_delete):\n",
    "    # Insert values at specified indices\n",
    "    for index, value in zip(indices_to_insert, values_to_insert):\n",
    "        original_array = np.insert(original_array, index, value)\n",
    "    \n",
    "    # Sort indices to delete in reverse order to avoid index shifting issues\n",
    "    indices_to_delete_sorted = sorted(indices_to_delete, reverse=True)\n",
    "    \n",
    "    # Delete elements at specified indices\n",
    "    for index in indices_to_delete_sorted:\n",
    "        original_array = np.delete(original_array, index)\n",
    "    \n",
    "    return original_array\n",
    "\n",
    "# Define the original array\n",
    "original_array = np.array([1, 2, 3, 4, 5])\n",
    "indices_to_insert = [2, 4]\n",
    "values_to_insert = [10, 11]\n",
    "indices_to_delete = [1, 3]\n",
    "\n",
    "# Modify the array\n",
    "modified_array = insert_and_delete_elements(original_array, indices_to_insert, values_to_insert, indices_to_delete)\n",
    "\n",
    "# Output the modified array\n",
    "print(\"Modified array:\", modified_array)\n",
    "\n",
    "\n",
    "\n",
    "\n"
   ]
  },
  {
   "cell_type": "code",
   "execution_count": 16,
   "id": "91ff20f6-76bd-4c93-90c6-b0482bfe6d30",
   "metadata": {},
   "outputs": [
    {
     "data": {
      "text/plain": [
       "array([ 4, 11,  5,  7, 12,  8, 14, 16, 14, 15])"
      ]
     },
     "execution_count": 16,
     "metadata": {},
     "output_type": "execute_result"
    }
   ],
   "source": [
    "#51. Create a NumPy array `arr1` with random integers and another array `arr2` with integers from 1 to 10.\n",
    " #Perform element-wise addition between `arr1` and `arr2\n",
    "arr1 = np.random.randint(0,10,size = (10,))\n",
    "arr2 = np.arange(1,11)\n",
    "arr1 + arr2"
   ]
  },
  {
   "cell_type": "code",
   "execution_count": 22,
   "id": "2af7aca7-45c6-49fe-93ef-acdd32910b65",
   "metadata": {},
   "outputs": [
    {
     "data": {
      "text/plain": [
       "array([ 9,  7,  5,  3,  1, -1, -3, -5, -7, -9])"
      ]
     },
     "execution_count": 22,
     "metadata": {},
     "output_type": "execute_result"
    }
   ],
   "source": [
    "#52. Generate a NumPy array `arr1` with sequential integers from 10 to 1 and another array `arr2` with integers\n",
    " #from 1 to 10. Subtract `arr2` from `arr1` element-wise\n",
    "    \n",
    "arr1 = np.arange(10,0,-1)\n",
    "arr2 = np.arange(1,11)\n",
    "\n",
    "arr1 - arr2"
   ]
  },
  {
   "cell_type": "code",
   "execution_count": 23,
   "id": "f1e4e1cf-8270-47dc-b044-5dd908b576b2",
   "metadata": {},
   "outputs": [
    {
     "name": "stdout",
     "output_type": "stream",
     "text": [
      "arr1: [3 7 6 9 7]\n",
      "arr2: [1 2 3 4 5]\n",
      "Element-wise multiplication result: [ 3 14 18 36 35]\n"
     ]
    },
    {
     "data": {
      "text/plain": [
       "array([3, 7, 6, 9, 7])"
      ]
     },
     "execution_count": 23,
     "metadata": {},
     "output_type": "execute_result"
    }
   ],
   "source": [
    "#53.Create a NumPy array `arr1` with random integers and another array `arr2` with integers from 1 to 5.\n",
    "#Perform element-wise multiplication between `arr1` and `arr2`.\n",
    "\n",
    "import numpy as np\n",
    "\n",
    "\n",
    "arr1 = np.random.randint(0, 10, size=(5,)) \n",
    "arr2 = np.arange(1, 6)\n",
    "\n",
    "result = arr1 * arr2\n",
    "\n",
    "print(\"arr1:\", arr1)\n",
    "print(\"arr2:\", arr2)\n",
    "print(\"Element-wise multiplication result:\", result)\n",
    "arr1"
   ]
  },
  {
   "cell_type": "code",
   "execution_count": 30,
   "id": "9ffc2eb9-9a2f-4d50-bb43-5a1af7c7da0c",
   "metadata": {},
   "outputs": [
    {
     "data": {
      "text/plain": [
       "array([2., 2., 2., 2., 2.])"
      ]
     },
     "execution_count": 30,
     "metadata": {},
     "output_type": "execute_result"
    }
   ],
   "source": [
    "#54. Generate a NumPy array `arr1` with even integers from 2 to 10 and another array `arr2` with integers from 1\n",
    "#to 5. Perform element-wise division of `arr1` by `arr2`.\n",
    "arr1 = np.arange(2,11,2)\n",
    "arr2 = np.arange(1,6)\n",
    "\n",
    "arr1 / arr2"
   ]
  },
  {
   "cell_type": "code",
   "execution_count": 37,
   "id": "bcf544f8-060e-4bb0-b8e1-71a9895ddb36",
   "metadata": {},
   "outputs": [
    {
     "data": {
      "text/plain": [
       "array([ 1, 16, 27, 16,  5])"
      ]
     },
     "execution_count": 37,
     "metadata": {},
     "output_type": "execute_result"
    }
   ],
   "source": [
    "#55. Create a NumPy array `arr1` with integers from 1 to 5 and another array `arr2` with the same numbers\n",
    "#reversed. Calculate the exponentiation of `arr1` raised to the power of `arr2` element-wise.\n",
    "arr1 = np.arange(1,6)\n",
    "arr2 = np.arange(5,0,-1)\n",
    "np.power(arr1,arr2)"
   ]
  },
  {
   "cell_type": "code",
   "execution_count": 39,
   "id": "6628c37e-cec9-4cb3-bd18-7cb0377fa4c8",
   "metadata": {},
   "outputs": [
    {
     "name": "stdout",
     "output_type": "stream",
     "text": [
      "The substring 'hello' occurs 3 times in the array.\n"
     ]
    }
   ],
   "source": [
    "#56. Write a function that counts the occurrences of a specific substring within a NumPy array of strings.\n",
    "arr = np.array(['hello', 'world', 'hello', 'numpy', 'hello'])\n",
    "import numpy as np\n",
    "\n",
    "def count_substring_occurrences(arr, substring):\n",
    "    return np.char.count(arr, substring).sum()\n",
    "\n",
    "\n",
    "arr = np.array(['hello', 'world', 'hello', 'numpy', 'hello'])\n",
    "substring = 'hello'\n",
    "count = count_substring_occurrences(arr, substring)\n",
    "\n",
    "print(f\"The substring '{substring}' occurs {count} times in the array.\")\n"
   ]
  },
  {
   "cell_type": "code",
   "execution_count": 40,
   "id": "f289d08a-6990-4d09-b86e-d6d5eca54803",
   "metadata": {},
   "outputs": [
    {
     "name": "stdout",
     "output_type": "stream",
     "text": [
      "['HELLO' 'WORLD' 'OPENAI' 'GPT']\n"
     ]
    }
   ],
   "source": [
    "#57.Write a function that extracts uppercase characters from a NumPy array of strings\n",
    "\n",
    "def string_upper(arr):\n",
    "    return np.char.upper(arr)\n",
    "\n",
    "arr = np.array(['Hello', 'World', 'OpenAI', 'GPT'])\n",
    "arr2 = string_upper(arr)\n",
    "print(arr2)\n",
    "    "
   ]
  },
  {
   "cell_type": "code",
   "execution_count": 41,
   "id": "ff92aca7-4b7c-42d0-8404-7ba6cedd5ea9",
   "metadata": {},
   "outputs": [
    {
     "name": "stdout",
     "output_type": "stream",
     "text": [
      "Original array: ['apple' 'banana' 'grape' 'pineapple']\n",
      "Modified array: ['orange' 'banana' 'grape' 'pineorange']\n"
     ]
    }
   ],
   "source": [
    "#58. Write a function that replaces occurrences of a substring in a NumPy array of strings with a new string.\n",
    "arr = np.array(['apple', 'banana', 'grape', 'pineapple'])\n",
    "\n",
    "import numpy as np\n",
    "\n",
    "def replace_substring(arr, old_substring, new_substring):\n",
    "   \n",
    "    return np.char.replace(arr, old_substring, new_substring)\n",
    "\n",
    "\n",
    "arr = np.array(['apple', 'banana', 'grape', 'pineapple'])\n",
    "old_substring = 'apple'\n",
    "new_substring = 'orange'\n",
    "result = replace_substring(arr, old_substring, new_substring)\n",
    "\n",
    "print(\"Original array:\", arr)\n",
    "print(\"Modified array:\", result)\n"
   ]
  },
  {
   "cell_type": "code",
   "execution_count": 45,
   "id": "e90e5b3a-e411-4410-8b41-ee4779e6d322",
   "metadata": {},
   "outputs": [
    {
     "name": "stdout",
     "output_type": "stream",
     "text": [
      "arr1: ['Hello' 'World']\n",
      "arr2: ['Open' 'AI']\n",
      "Element-wise concatenation result: ['HelloOpen' 'WorldAI']\n"
     ]
    }
   ],
   "source": [
    "#59. Write a function that concatenates strings in a NumPy array element-wise.\n",
    "arr1 = np.array(['Hello', 'World'])\n",
    "arr2 = np.array(['Open', 'AI'])\n",
    "\n",
    "import numpy as np\n",
    "\n",
    "def concatenate_strings_elementwise(arr1, arr2):\n",
    "    return np.char.add(arr1, arr2)\n",
    "\n",
    "\n",
    "arr1 = np.array(['Hello', 'World'])\n",
    "arr2 = np.array(['Open', 'AI'])\n",
    "result = concatenate_strings_elementwise(arr1, arr2)\n",
    "\n",
    "print(\"arr1:\", arr1)\n",
    "print(\"arr2:\", arr2)\n",
    "print(\"Element-wise concatenation result:\", result)\n",
    "\n"
   ]
  },
  {
   "cell_type": "markdown",
   "id": "0a91fe26-ebeb-4902-b872-c1ce3941402d",
   "metadata": {},
   "source": [
    "###### "
   ]
  },
  {
   "cell_type": "code",
   "execution_count": 46,
   "id": "fa161cb3-dc55-4e7e-a794-33381d697e88",
   "metadata": {},
   "outputs": [
    {
     "name": "stdout",
     "output_type": "stream",
     "text": [
      "Array: ['apple' 'banana' 'grape' 'pineapple']\n",
      "Length of the longest string: 9\n"
     ]
    }
   ],
   "source": [
    "#60. Write a function that finds the length of the longest string in a NumPy array.\n",
    "\n",
    "arr = np.array(['apple', 'banana', 'grape', 'pineapple'])\n",
    "\n",
    "\n",
    "import numpy as np\n",
    "\n",
    "def length_of_longest_string(arr):\n",
    "    len_vectorized = np.vectorize(len)\n",
    "    lengths = len_vectorized(arr)\n",
    "    return np.max(lengths)\n",
    "\n",
    "# Example usage\n",
    "arr = np.array(['apple', 'banana', 'grape', 'pineapple'])\n",
    "longest_length = length_of_longest_string(arr)\n",
    "\n",
    "print(\"Array:\", arr)\n",
    "print(\"Length of the longest string:\", longest_length)\n"
   ]
  },
  {
   "cell_type": "code",
   "execution_count": 10,
   "id": "1658d4ef-582c-4e89-8c85-c7c236a39b2d",
   "metadata": {},
   "outputs": [
    {
     "name": "stdout",
     "output_type": "stream",
     "text": [
      "500.74\n",
      "500.0\n",
      "73716.01239999999\n",
      "271.5069288250302\n"
     ]
    }
   ],
   "source": [
    "#61. Create a dataset of 100 random integers between 1 and 1000. Compute the mean, median, variance, and\n",
    "#standard deviation of the dataset using NumPy's functions\n",
    "\n",
    "arr = np.random.randint(1,1001,size = 100)\n",
    "print(np.mean(arr))\n",
    "print(np.median(arr))\n",
    "print(np.var(arr))\n",
    "print(np.std(arr))"
   ]
  },
  {
   "cell_type": "code",
   "execution_count": 14,
   "id": "301d5359-cbbc-42aa-8cd9-c3a42c0131df",
   "metadata": {},
   "outputs": [
    {
     "name": "stdout",
     "output_type": "stream",
     "text": [
      "31.25\n",
      "84.75\n"
     ]
    }
   ],
   "source": [
    "#62. Generate an array of 50 random numbers between 1 and 100. Find the 25th and 75th percentiles of the dataset.\n",
    "arr = np.random.randint(1,101,size = 50)\n",
    "print(np.percentile(arr,25))\n",
    "print(np.percentile(arr,75))"
   ]
  },
  {
   "cell_type": "code",
   "execution_count": 15,
   "id": "54a32bf7-4a9f-4bfa-bc78-a31a0916d02a",
   "metadata": {},
   "outputs": [
    {
     "name": "stdout",
     "output_type": "stream",
     "text": [
      "Array 1: [25 91 71 81 44 30  7 77 60 70 57 70 81 74 55 56 32 40 15 39 28 12 18 23\n",
      " 78 82 34 28 99 60 18 74  9 33  7 80 96 16 22  2 52 73 17 10 97 94 80 62\n",
      " 87 94 74 91 27 57 45 16 91 47 53 64  5 17 86 89 34 47 98  9 89 38 67 22\n",
      " 69 27 31 41 26 80 69 55 41 33  5 15 44 64 96 30 37 16  4 39 88 45 78 16\n",
      " 88 56 82 37]\n",
      "Array 2: [32 68 20 27 63 42 92 24 95 84  6  5  6 38 56 88  2 85 14 10 85 50 53 65\n",
      "  3 71 69 83 44 65 73  7 40 55 99 91 54 42 36  6 68 30 62 60 65 15 40 15\n",
      " 94 67 86 54 21 34 22 96 44 54 13 65 92 79 92 45  7 84 35 78 30 74 90  5\n",
      " 71  4 19 63  4 24 33  3 98 29 78 32 91 72 31 12 97 49 35 54 40 70 54 25\n",
      " 40  3 32 76]\n",
      "Correlation coefficient: -0.07940729762286927\n"
     ]
    }
   ],
   "source": [
    "#63. Create two arrays representing two sets of variables. Compute the correlation coefficient between these\n",
    "#arrays using NumPy's `corrcoef` function.\n",
    "import numpy as np\n",
    "\n",
    "\n",
    "array1 = np.random.randint(1, 100, size=100)\n",
    "array2 = np.random.randint(1, 100, size=100)\n",
    "\n",
    "\n",
    "correlation_matrix = np.corrcoef(array1, array2)\n",
    "correlation_coefficient = correlation_matrix[0, 1]\n",
    "\n",
    "\n",
    "print(\"Array 1:\", array1)\n",
    "print(\"Array 2:\", array2)\n",
    "print(\"Correlation coefficient:\", correlation_coefficient)\n"
   ]
  },
  {
   "cell_type": "code",
   "execution_count": 16,
   "id": "d39305f6-12c5-4eb5-b162-52369d69837c",
   "metadata": {},
   "outputs": [
    {
     "name": "stdout",
     "output_type": "stream",
     "text": [
      "Matrix 1:\n",
      "[[1 2 3]\n",
      " [4 5 6]\n",
      " [7 8 9]]\n",
      "\n",
      "Matrix 2:\n",
      "[[9 8 7]\n",
      " [6 5 4]\n",
      " [3 2 1]]\n",
      "\n",
      "Result of matrix multiplication:\n",
      "[[ 30  24  18]\n",
      " [ 84  69  54]\n",
      " [138 114  90]]\n"
     ]
    }
   ],
   "source": [
    "#64. Create two matrices and perform matrix multiplication using NumPy's `dot` function.\n",
    "import numpy as np\n",
    "\n",
    "\n",
    "matrix1 = np.array([[1, 2, 3],\n",
    "                    [4, 5, 6],\n",
    "                    [7, 8, 9]])\n",
    "\n",
    "matrix2 = np.array([[9, 8, 7],\n",
    "                    [6, 5, 4],\n",
    "                    [3, 2, 1]])\n",
    "\n",
    "\n",
    "result = np.dot(matrix1, matrix2)\n",
    "\n",
    "\n",
    "print(\"Matrix 1:\")\n",
    "print(matrix1)\n",
    "print(\"\\nMatrix 2:\")\n",
    "print(matrix2)\n",
    "print(\"\\nResult of matrix multiplication:\")\n",
    "print(result)\n"
   ]
  },
  {
   "cell_type": "code",
   "execution_count": 17,
   "id": "3e9f42ef-bdbe-43c4-b8eb-517763a3dd67",
   "metadata": {},
   "outputs": [
    {
     "name": "stdout",
     "output_type": "stream",
     "text": [
      "Array: [ 586  864  371  301  424  237  172   89  249 1000  995  498  273  150\n",
      "  613  991   86   83   94  510  863  278  898  965  341  626  621  278\n",
      "  684  505  105  332  557  881  595  500  263  146  885  922  197  603\n",
      "  145  334  809  555  685  427  357   47]\n",
      "10th percentile: 103.9\n",
      "50th percentile (median): 462.5\n",
      "90th percentile: 900.4000000000001\n",
      "First quartile (25th percentile): 252.5\n",
      "Third quartile (75th percentile): 669.5\n"
     ]
    }
   ],
   "source": [
    "#65.Create an array of 50 integers between 10 and 1000. Calculate the 10th, 50th (median), and 90th\n",
    "#percentiles along with the first and third quartiles.\n",
    "\n",
    "import numpy as np\n",
    "\n",
    "\n",
    "array = np.random.randint(10, 1001, size=50)\n",
    "\n",
    "\n",
    "percentile_10 = np.percentile(array, 10)\n",
    "percentile_50 = np.percentile(array, 50)  # This is also the median\n",
    "percentile_90 = np.percentile(array, 90)\n",
    "\n",
    "# Calculate the first and third quartiles\n",
    "first_quartile = np.percentile(array, 25)\n",
    "third_quartile = np.percentile(array, 75)\n",
    "\n",
    "# Print the array and the calculated percentiles\n",
    "print(\"Array:\", array)\n",
    "print(\"10th percentile:\", percentile_10)\n",
    "print(\"50th percentile (median):\", percentile_50)\n",
    "print(\"90th percentile:\", percentile_90)\n",
    "print(\"First quartile (25th percentile):\", first_quartile)\n",
    "print(\"Third quartile (75th percentile):\", third_quartile)\n"
   ]
  },
  {
   "cell_type": "code",
   "execution_count": 18,
   "id": "56f87f57-f686-4757-a380-6513420bf9f2",
   "metadata": {},
   "outputs": [
    {
     "name": "stdout",
     "output_type": "stream",
     "text": [
      "Array: [ 10  20  30  40  50  60  70  80  90 100]\n",
      "Index of element 50: [4]\n"
     ]
    }
   ],
   "source": [
    "#66. Create a NumPy array of integers and find the index of a specific element.\n",
    "import numpy as np\n",
    "\n",
    "# Create a NumPy array of integers\n",
    "array = np.array([10, 20, 30, 40, 50, 60, 70, 80, 90, 100])\n",
    "\n",
    "# Define the specific element to find\n",
    "element_to_find = 50\n",
    "\n",
    "# Find the index of the specific element\n",
    "index = np.where(array == element_to_find)[0]\n",
    "\n",
    "# Print the array and the index of the specific element\n",
    "print(\"Array:\", array)\n",
    "print(f\"Index of element {element_to_find}:\", index)\n"
   ]
  },
  {
   "cell_type": "code",
   "execution_count": 19,
   "id": "9e0f19f7-1986-4146-b580-99f64effd94b",
   "metadata": {},
   "outputs": [
    {
     "name": "stdout",
     "output_type": "stream",
     "text": [
      "Original array: [23 18 46 52  2 84  5 55 43 84 60 13 88 20 88 28 23 29 52 80]\n",
      "Sorted array: [ 2  5 13 18 20 23 23 28 29 43 46 52 52 55 60 80 84 84 88 88]\n"
     ]
    }
   ],
   "source": [
    "#67.Generate a random NumPy array and sort it in ascending order.\n",
    "import numpy as np\n",
    "\n",
    "random_array = np.random.randint(1, 101, size=20)\n",
    "sorted_array = np.sort(random_array)\n",
    "\n",
    "print(\"Original array:\", random_array)\n",
    "print(\"Sorted array:\", sorted_array)\n"
   ]
  },
  {
   "cell_type": "code",
   "execution_count": 20,
   "id": "c43bc513-085d-4186-93ad-669bb2748325",
   "metadata": {},
   "outputs": [
    {
     "name": "stdout",
     "output_type": "stream",
     "text": [
      "Original array: [12 25  6 42  8 30]\n",
      "Filtered array (elements > 20): [25 42 30]\n"
     ]
    }
   ],
   "source": [
    "#68.. Filter elements >20  in the given NumPy array.\n",
    "arr = np.array([12, 25, 6, 42, 8, 30])\n",
    "\n",
    "import numpy as np\n",
    "\n",
    "\n",
    "arr = np.array([12, 25, 6, 42, 8, 30])\n",
    "\n",
    "filtered_arr = arr[arr > 20]\n",
    "\n",
    "print(\"Original array:\", arr)\n",
    "print(\"Filtered array (elements > 20):\", filtered_arr)\n"
   ]
  },
  {
   "cell_type": "code",
   "execution_count": 21,
   "id": "992cbc74-ae2a-4083-b2ea-1af078dbd660",
   "metadata": {},
   "outputs": [
    {
     "name": "stdout",
     "output_type": "stream",
     "text": [
      "Original array: [ 1  5  8 12 15]\n",
      "Filtered array (elements divisible by 3): [12 15]\n"
     ]
    }
   ],
   "source": [
    "#69.69. Filter elements which are divisible by 3 from a given NumPy array.\n",
    "arr = np.array([1, 5, 8, 12, 15])\n",
    "import numpy as np\n",
    "\n",
    "\n",
    "arr = np.array([1, 5, 8, 12, 15])\n",
    "\n",
    "\n",
    "filtered_arr = arr[arr % 3 == 0]\n",
    "\n",
    "\n",
    "print(\"Original array:\", arr)\n",
    "print(\"Filtered array (elements divisible by 3):\", filtered_arr)\n"
   ]
  },
  {
   "cell_type": "code",
   "execution_count": 22,
   "id": "a6428290-a8bb-4813-8db1-1f37aa67fd3d",
   "metadata": {},
   "outputs": [
    {
     "name": "stdout",
     "output_type": "stream",
     "text": [
      "Original array: [10 20 30 40 50]\n",
      "Filtered array (elements ≥ 20 and ≤ 40): [20 30 40]\n"
     ]
    }
   ],
   "source": [
    "#70. Filter elements which are ≥ 20 and ≤ 40 from a given NumPy array.\n",
    "arr = np.array([10, 20, 30, 40, 50])\n",
    "import numpy as np\n",
    "\n",
    "\n",
    "arr = np.array([10, 20, 30, 40, 50])\n",
    "\n",
    "filtered_arr = arr[(arr >= 20) & (arr <= 40)]\n",
    "\n",
    "\n",
    "print(\"Original array:\", arr)\n",
    "print(\"Filtered array (elements ≥ 20 and ≤ 40):\", filtered_arr)\n"
   ]
  },
  {
   "cell_type": "code",
   "execution_count": 24,
   "id": "c01933fe-ce08-4b59-88b5-5f13d3fdb15b",
   "metadata": {},
   "outputs": [
    {
     "name": "stdout",
     "output_type": "stream",
     "text": [
      "Byte order: =\n"
     ]
    }
   ],
   "source": [
    "#71.For the given NumPy array, check its byte order using the `dtype` attribute byteorder.\n",
    "arr = np.array([1, 2, 3])\n",
    "import numpy as np\n",
    "\n",
    "# Create the NumPy array\n",
    "arr = np.array([1, 2, 3])\n",
    "\n",
    "# Check the byte order\n",
    "byte_order = arr.dtype.byteorder\n",
    "\n",
    "# Print the byte order\n",
    "print(\"Byte order:\", byte_order)\n"
   ]
  },
  {
   "cell_type": "code",
   "execution_count": 25,
   "id": "1ccc0762-e222-41b5-98a5-3eed667380be",
   "metadata": {},
   "outputs": [
    {
     "name": "stdout",
     "output_type": "stream",
     "text": [
      "Array after byte swapping: [16777216 33554432 50331648]\n"
     ]
    }
   ],
   "source": [
    "#72.For the given NumPy array, perform byte swapping in place using byteswap().\n",
    "arr = np.array([1, 2, 3], dtype=np.int32)\n",
    "\n",
    "import numpy as np\n",
    "\n",
    "# Create the NumPy array\n",
    "arr = np.array([1, 2, 3], dtype=np.int32)\n",
    "\n",
    "# Perform byte swapping in place\n",
    "arr.byteswap(inplace=True)\n",
    "\n",
    "# Print the array after byte swapping\n",
    "print(\"Array after byte swapping:\", arr)\n"
   ]
  },
  {
   "cell_type": "code",
   "execution_count": 26,
   "id": "38e9d219-5075-497f-a627-bc013dfd7199",
   "metadata": {},
   "outputs": [
    {
     "name": "stdout",
     "output_type": "stream",
     "text": [
      "Original array: [1 2 3]\n",
      "Array with swapped byte order: [16777216 33554432 50331648]\n"
     ]
    }
   ],
   "source": [
    "#73.For the given NumPy array, swap its byte order without modifying the original array using `newbyteorder()`.\n",
    "arr = np.array([1, 2, 3], dtype=np.int32)\n",
    "import numpy as np\n",
    " \n",
    "arr = np.array([1, 2, 3], dtype=np.int32)\n",
    "\n",
    "swapped_arr = arr.newbyteorder()\n",
    "\n",
    "\n",
    "print(\"Original array:\", arr)\n",
    "print(\"Array with swapped byte order:\", swapped_arr)\n",
    "\n"
   ]
  },
  {
   "cell_type": "code",
   "execution_count": 27,
   "id": "b44f43f9-d078-4c51-be50-1f36f26c7ab6",
   "metadata": {},
   "outputs": [
    {
     "name": "stdout",
     "output_type": "stream",
     "text": [
      "Original array: [1 2 3]\n",
      "Array with swapped byte order: [16777216 33554432 50331648]\n"
     ]
    }
   ],
   "source": [
    "#74.. For the given NumPy array and swap its byte order conditionally based on system endianness using `newbyteorder()`.\n",
    "arr = np.array([1, 2, 3], dtype=np.int32)\n",
    "\n",
    "import numpy as np\n",
    "\n",
    "arr = np.array([1, 2, 3], dtype=np.int32)\n",
    "\n",
    "swapped_arr = arr.newbyteorder()\n",
    "\n",
    "# Print the original and swapped arrays\n",
    "print(\"Original array:\", arr)\n",
    "print(\"Array with swapped byte order:\", swapped_arr)\n"
   ]
  },
  {
   "cell_type": "code",
   "execution_count": 3,
   "id": "39cdfb4a-2523-490e-b4c0-034d7d3959ff",
   "metadata": {},
   "outputs": [
    {
     "name": "stdout",
     "output_type": "stream",
     "text": [
      "Array byte order: =\n",
      "System byte order: <\n",
      "Byte swapping necessary: False\n"
     ]
    }
   ],
   "source": [
    "#75. For the given NumPy array, check if byte swapping is necessary for the current system using `dtype` attribute `byteorder`.\n",
    "arr = np.array([1, 2, 3], dtype=np.int32)\n",
    "import numpy as np\n",
    "import sys\n",
    "\n",
    "\n",
    "arr = np.array([1, 2, 3], dtype=np.int32)\n",
    "\n",
    "\n",
    "array_byteorder = arr.dtype.byteorder\n",
    "\n",
    "\n",
    "system_byteorder = '<' if sys.byteorder == 'little' else '>'\n",
    "\n",
    "\n",
    "if array_byteorder in ['|', '=']:\n",
    "   \n",
    "    needs_swap = False\n",
    "else:\n",
    "    needs_swap = array_byteorder != system_byteorder\n",
    "\n",
    "# Output the result\n",
    "print(\"Array byte order:\", array_byteorder)\n",
    "print(\"System byte order:\", system_byteorder)\n",
    "print(\"Byte swapping necessary:\", needs_swap)\n"
   ]
  },
  {
   "cell_type": "code",
   "execution_count": 4,
   "id": "970a9bf2-b8c4-40e8-bd79-0629e145a3ff",
   "metadata": {},
   "outputs": [
    {
     "name": "stdout",
     "output_type": "stream",
     "text": [
      "arr1: [ 1  2  3  4  5  6  7  8  9 10]\n",
      "copy_arr: [99  2  3  4  5  6  7  8  9 10]\n",
      "Does modifying copy_arr affect arr1? False\n"
     ]
    }
   ],
   "source": [
    "#76. Create a NumPy array `arr1` with values from 1 to 10. Create a copy of `arr1` named `copy_arr` and modify\n",
    "# an element in `copy_arr`. Check if modifying `copy_arr` affects `arr1`.\n",
    "\n",
    "import numpy as np\n",
    "\n",
    "arr1 = np.arange(1, 11)\n",
    "\n",
    "copy_arr = arr1.copy()\n",
    "\n",
    "\n",
    "copy_arr[0] = 99\n",
    "\n",
    "print(\"arr1:\", arr1)\n",
    "print(\"copy_arr:\", copy_arr)\n",
    "print(\"Does modifying copy_arr affect arr1?\", np.array_equal(arr1, copy_arr))\n"
   ]
  },
  {
   "cell_type": "code",
   "execution_count": 5,
   "id": "3572debb-801c-4702-bc84-5902147a3c95",
   "metadata": {},
   "outputs": [
    {
     "name": "stdout",
     "output_type": "stream",
     "text": [
      "Original matrix after modification:\n",
      "[[999  60  93]\n",
      " [ 19  10   6]\n",
      " [ 22  59  66]]\n",
      "view_slice:\n",
      "[[999  60]\n",
      " [ 19  10]]\n"
     ]
    }
   ],
   "source": [
    "#77.Create a 2D NumPy array `matrix` of shape (3, 3) with random integers. Extract a slice `view_slice` from\n",
    "#the matrix. Modify an element in `view_slice` and observe if it changes the original `matrix`.\n",
    "\n",
    "import numpy as np\n",
    "\n",
    "matrix = np.random.randint(1, 100, size=(3, 3))\n",
    "\n",
    "\n",
    "view_slice = matrix[0:2, 0:2] \n",
    "\n",
    "\n",
    "view_slice[0, 0] = 999\n",
    "print(\"Original matrix after modification:\")\n",
    "print(matrix)\n",
    "print(\"view_slice:\")\n",
    "print(view_slice)\n"
   ]
  },
  {
   "cell_type": "code",
   "execution_count": 8,
   "id": "8e307fe4-b2f8-435a-9ee6-3b2cd1ded072",
   "metadata": {},
   "outputs": [
    {
     "name": "stdout",
     "output_type": "stream",
     "text": [
      "Original array_a before modification:\n",
      "[[ 1  2  3]\n",
      " [ 4  5  6]\n",
      " [ 7  8  9]\n",
      " [10 11 12]]\n",
      "Original array_a after modification:\n",
      "[[ 1  2  3]\n",
      " [ 9 10 11]\n",
      " [12 13 14]\n",
      " [10 11 12]]\n",
      "view_b after broadcasting addition of 5:\n",
      "[[ 9 10 11]\n",
      " [12 13 14]]\n"
     ]
    }
   ],
   "source": [
    "#78.. Create a NumPy array `array_a` of shape (4, 3) with sequential integers from 1 to 12. Extract a slice\n",
    "#`view_b` from `array_a` and broadcast the addition of 5 to view_b. Check if it alters the original `array_a`.\n",
    "\n",
    "import numpy as np\n",
    "\n",
    "\n",
    "array_a = np.arange(1, 13).reshape(4, 3)\n",
    "\n",
    "\n",
    "view_b = array_a[1:3, :]  \n",
    "\n",
    "\n",
    "original_array_a_before_modification = array_a.copy()\n",
    "\n",
    "\n",
    "view_b += 5\n",
    "\n",
    "original_array_a_after_modification = array_a.copy()\n",
    "\n",
    "print(\"Original array_a before modification:\")\n",
    "print(original_array_a_before_modification)\n",
    "print(\"Original array_a after modification:\")\n",
    "print(original_array_a_after_modification)\n",
    "print(\"view_b after broadcasting addition of 5:\")\n",
    "print(view_b)\n"
   ]
  },
  {
   "cell_type": "code",
   "execution_count": 9,
   "id": "ae28ec9a-5a93-4e91-8a75-ebfe71bb3bca",
   "metadata": {},
   "outputs": [
    {
     "name": "stdout",
     "output_type": "stream",
     "text": [
      "Original array before modification:\n",
      "[[1 2 3 4]\n",
      " [5 6 7 8]]\n",
      "Original array after modification:\n",
      "[[999   2   3   4]\n",
      " [  5   6   7   8]]\n",
      "Reshaped view after modification:\n",
      "[[999   2]\n",
      " [  3   4]\n",
      " [  5   6]\n",
      " [  7   8]]\n"
     ]
    }
   ],
   "source": [
    "#79. Create a NumPy array `orig_array` of shape (2, 4) with values from 1 to 8. Create a reshaped view\n",
    "#`reshaped_view` of shape (4, 2) from orig_array. Modify an element in `reshaped_view` and check if it\n",
    "#reflects changes in the original `orig_array`.\n",
    "\n",
    "import numpy as np\n",
    "\n",
    "#\n",
    "orig_array = np.arange(1, 9).reshape(2, 4)\n",
    "\n",
    "\n",
    "reshaped_view = orig_array.reshape(4, 2)\n",
    "\n",
    "\n",
    "original_array_before_modification = orig_array.copy()\n",
    "\n",
    "\n",
    "reshaped_view[0, 0] = 999\n",
    "\n",
    "\n",
    "original_array_after_modification = orig_array.copy()\n",
    "\n",
    "print(\"Original array before modification:\")\n",
    "print(original_array_before_modification)\n",
    "print(\"Original array after modification:\")\n",
    "print(original_array_after_modification)\n",
    "print(\"Reshaped view after modification:\")\n",
    "print(reshaped_view)\n"
   ]
  },
  {
   "cell_type": "code",
   "execution_count": 11,
   "id": "8d083247-6519-464c-ba6c-dfa6988a59e3",
   "metadata": {},
   "outputs": [
    {
     "name": "stdout",
     "output_type": "stream",
     "text": [
      "Original data before modification:\n",
      "[[6 2 7 8]\n",
      " [5 6 1 5]\n",
      " [2 9 2 5]]\n",
      "Original data after modification:\n",
      "[[6 2 7 8]\n",
      " [5 6 1 5]\n",
      " [2 9 2 5]]\n",
      "data_copy after modification:\n",
      "[999   7   8   6   9]\n"
     ]
    }
   ],
   "source": [
    "#80. Create a NumPy array `data` of shape (3, 4) with random integers. Extract a copy `data_copy` of\n",
    "#elements greater than 5. Modify an element in `data_copy` and verify if it affects the original `data`.\n",
    "\n",
    "import numpy as np\n",
    "\n",
    "\n",
    "data = np.random.randint(1, 10, size=(3, 4))\n",
    "\n",
    "data_copy = data[data > 5].copy()\n",
    "\n",
    "original_data_before_modification = data.copy()\n",
    "\n",
    "\n",
    "if data_copy.size > 0:  \n",
    "    data_copy[0] = 999\n",
    "\n",
    "\n",
    "original_data_after_modification = data.copy()\n",
    "\n",
    "print(\"Original data before modification:\")\n",
    "print(original_data_before_modification)\n",
    "print(\"Original data after modification:\")\n",
    "print(original_data_after_modification)\n",
    "print(\"data_copy after modification:\")\n",
    "print(data_copy)\n"
   ]
  },
  {
   "cell_type": "code",
   "execution_count": 13,
   "id": "39cd0485-b198-46fd-a64e-a47d375e6cad",
   "metadata": {},
   "outputs": [
    {
     "name": "stdout",
     "output_type": "stream",
     "text": [
      "[[6 2 6]\n",
      " [6 4 5]\n",
      " [5 7 2]]\n",
      "[[7 3 7]\n",
      " [4 5 4]\n",
      " [4 7 8]]\n",
      "add [[13  5 13]\n",
      " [10  9  9]\n",
      " [ 9 14 10]]\n",
      "subb [[-1 -1 -1]\n",
      " [ 2 -1  1]\n",
      " [ 1  0 -6]]\n"
     ]
    }
   ],
   "source": [
    "#81.Create two matrices A and B of identical shape containing integers and perform addition and subtraction\n",
    "#operations between them.\n",
    "arr1 = np.random.randint(1,10,(3,3))\n",
    "arr2 = np.random.randint(1,10,(3,3))\n",
    "print(arr1)\n",
    "print(arr2)\n",
    "\n",
    "add = arr1 + arr2\n",
    "print(\"add\",add)\n",
    "\n",
    "sub = arr1 - arr2\n",
    "print(\"subb\",sub)"
   ]
  },
  {
   "cell_type": "code",
   "execution_count": 15,
   "id": "7c1812d1-a9ed-4af3-86f4-3a8b278ee94c",
   "metadata": {},
   "outputs": [
    {
     "name": "stdout",
     "output_type": "stream",
     "text": [
      "first matrix [[2 7 8]\n",
      " [2 3 6]\n",
      " [5 4 4]]\n",
      "second matrix [[2 7 8]\n",
      " [2 3 6]\n",
      " [5 4 4]]\n",
      "mul of matrix arr1 and aarr2 [[102  54 123]\n",
      " [ 64  32  77]\n",
      " [ 62  33  69]]\n"
     ]
    }
   ],
   "source": [
    "#82. Generate two matrices `C` (3x2) and `D` (2x4) and perform matrix multiplication.\n",
    "\n",
    "arr1 = np.random.randint(1,10,(3,3))\n",
    "arr2 = np.random.randint(1,10,(3,3))\n",
    "\n",
    "print(\"first matrix\",arr1)\n",
    "\n",
    "print(\"second matrix\",arr1)\n",
    "\n",
    "mul = arr1 @ arr2\n",
    "\n",
    "print(\"mul of matrix arr1 and aarr2\",mul)"
   ]
  },
  {
   "cell_type": "code",
   "execution_count": 17,
   "id": "c6ecc48b-fc39-42c0-bb13-9f47d1785b40",
   "metadata": {},
   "outputs": [
    {
     "name": "stdout",
     "output_type": "stream",
     "text": [
      "[[9 2 2]\n",
      " [7 5 6]\n",
      " [3 7 9]]\n"
     ]
    },
    {
     "data": {
      "text/plain": [
       "array([[9, 7, 3],\n",
       "       [2, 5, 7],\n",
       "       [2, 6, 9]])"
      ]
     },
     "execution_count": 17,
     "metadata": {},
     "output_type": "execute_result"
    }
   ],
   "source": [
    "#83. Create a matrix `E` and find its transpose\n",
    "\n",
    "\n",
    "arr1 = np.random.randint(1,10,(3,3))\n",
    "print(arr1)\n",
    "arr1.T"
   ]
  },
  {
   "cell_type": "code",
   "execution_count": 18,
   "id": "676f9bb5-c3db-4772-a8ee-fea3afd774a3",
   "metadata": {},
   "outputs": [
    {
     "name": "stdout",
     "output_type": "stream",
     "text": [
      "Square matrix F:\n",
      "[[5 9 9]\n",
      " [9 3 7]\n",
      " [3 8 8]]\n",
      "Determinant of F: -51.999999999999986\n"
     ]
    }
   ],
   "source": [
    "#84.Generate a square matrix `F` and compute its determinant.\n",
    "import numpy as np\n",
    "\n",
    "\n",
    "F = np.random.randint(1, 10, size=(3, 3))\n",
    "\n",
    "\n",
    "determinant = np.linalg.det(F)\n",
    "\n",
    "print(\"Square matrix F:\")\n",
    "print(F)\n",
    "print(\"Determinant of F:\", determinant)\n"
   ]
  },
  {
   "cell_type": "code",
   "execution_count": 19,
   "id": "25f90b5a-38e8-4459-aed8-023cbe5002dc",
   "metadata": {},
   "outputs": [
    {
     "name": "stdout",
     "output_type": "stream",
     "text": [
      "Square matrix G:\n",
      "[[2 4 6]\n",
      " [7 6 7]\n",
      " [3 3 8]]\n",
      "Inverse of G:\n",
      "[[-0.39705882  0.20588235  0.11764706]\n",
      " [ 0.51470588  0.02941176 -0.41176471]\n",
      " [-0.04411765 -0.08823529  0.23529412]]\n"
     ]
    }
   ],
   "source": [
    "#85.5. Create a square matrix `G` and find its inverse.\n",
    "import numpy as np\n",
    "\n",
    "# Step 1: Generate a square matrix G of shape (3, 3) with random integers\n",
    "G = np.random.randint(1, 10, size=(3, 3))\n",
    "\n",
    "# Step 2: Compute the inverse of G\n",
    "try:\n",
    "    G_inverse = np.linalg.inv(G)\n",
    "except np.linalg.LinAlgError:\n",
    "    G_inverse = None\n",
    "\n",
    "print(\"Square matrix G:\")\n",
    "print(G)\n",
    "if G_inverse is not None:\n",
    "    print(\"Inverse of G:\")\n",
    "    print(G_inverse)\n",
    "else:\n",
    "    print(\"Matrix G is singular and does not have an inverse.\")\n"
   ]
  },
  {
   "cell_type": "code",
   "execution_count": null,
   "id": "c873b1ad-588b-406b-9bf7-eaa507d714f6",
   "metadata": {},
   "outputs": [],
   "source": []
  }
 ],
 "metadata": {
  "kernelspec": {
   "display_name": "Python 3 (ipykernel)",
   "language": "python",
   "name": "python3"
  },
  "language_info": {
   "codemirror_mode": {
    "name": "ipython",
    "version": 3
   },
   "file_extension": ".py",
   "mimetype": "text/x-python",
   "name": "python",
   "nbconvert_exporter": "python",
   "pygments_lexer": "ipython3",
   "version": "3.10.8"
  }
 },
 "nbformat": 4,
 "nbformat_minor": 5
}
